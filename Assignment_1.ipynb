{
 "cells": [
  {
   "cell_type": "code",
   "execution_count": 16,
   "id": "d50f5359",
   "metadata": {},
   "outputs": [
    {
     "ename": "SyntaxError",
     "evalue": "invalid syntax (<ipython-input-16-062f7aaaf24a>, line 2)",
     "output_type": "error",
     "traceback": [
      "\u001b[1;36m  File \u001b[1;32m\"<ipython-input-16-062f7aaaf24a>\"\u001b[1;36m, line \u001b[1;32m2\u001b[0m\n\u001b[1;33m    *\u001b[0m\n\u001b[1;37m      ^\u001b[0m\n\u001b[1;31mSyntaxError\u001b[0m\u001b[1;31m:\u001b[0m invalid syntax\n"
     ]
    }
   ],
   "source": [
    "# 1. In the below elements which of them are values or an expression? eg:- values can be integer or string and expressions will be mathematical operators.\n",
    "* \n",
    "'hello'\n",
    "-87.8\n",
    "- \n",
    "/ \n",
    "+\n",
    "6 \n",
    "#"
   ]
  },
  {
   "cell_type": "code",
   "execution_count": 14,
   "id": "104e2734",
   "metadata": {},
   "outputs": [
    {
     "name": "stdout",
     "output_type": "stream",
     "text": [
      "('hello', -87.8, 6)\n"
     ]
    }
   ],
   "source": [
    "#values:\n",
    "\n",
    "a = 'hello' , -87.8, 6\n",
    "print(a)\n"
   ]
  },
  {
   "cell_type": "code",
   "execution_count": null,
   "id": "e86dc833",
   "metadata": {},
   "outputs": [],
   "source": [
    "#expressions:\n",
    "*\n",
    "+\n",
    "-\n",
    "/\n"
   ]
  },
  {
   "cell_type": "markdown",
   "id": "6dae7c1e",
   "metadata": {},
   "source": [
    "2. What is the difference between String and variable\n"
   ]
  },
  {
   "cell_type": "code",
   "execution_count": null,
   "id": "ee4797ba",
   "metadata": {},
   "outputs": [],
   "source": [
    "#String:-\n",
    "\n",
    "'''\n",
    "String is a group of character.\n",
    "if we want to use a text in python then we have to use string.\n",
    "string can be use in Single quotes('') and double quotes(\"\").\n",
    "'''\n",
    "\n",
    "#Variable:-\n",
    "\n",
    "'''\n",
    "variables are reserved memory locations that stores values.\n",
    "\n",
    "'''"
   ]
  },
  {
   "cell_type": "markdown",
   "id": "2b235313",
   "metadata": {},
   "source": [
    "3. Describe three different data types.\n",
    "\n",
    "-> Variables can hold value of diffrent data type is called Data type.In which we are describing the following three Data types:\n",
    "    \n",
    "    1. List:\n",
    "    \n",
    "    A list consist of items seprated by commas and enclosed within square bracket "
   ]
  },
  {
   "cell_type": "code",
   "execution_count": 13,
   "id": "90575628",
   "metadata": {},
   "outputs": [
    {
     "name": "stdout",
     "output_type": "stream",
     "text": [
      "[10, 'ab', 'ravi', 'kumar']\n",
      "10\n",
      "[10, 'ab', 'ravi']\n",
      "['kumar']\n",
      "[10, 'ab', [20], 'kumar']\n"
     ]
    }
   ],
   "source": [
    "# For exampple \n",
    "# program for demonastrate operation on list\n",
    "\n",
    "l = [10, 'ab' , 'ravi' , ('kumar')]\n",
    "\n",
    "print(l)              #print all elements of list\n",
    "print(l[0])           #print first element of list\n",
    "print(l[0:3])        #print element starting from first to first till 3rd\n",
    "print(l[3:4])         #print elemenr starting from 4th to till 4th\n",
    "l[2] = [20]           #we can change the value in a list\n",
    "print(l)"
   ]
  },
  {
   "cell_type": "markdown",
   "id": "7245a4e5",
   "metadata": {},
   "source": [
    "2. Tupple\n",
    "    In typple we can nat change the value. This means that Tupple is a read-only data type.\n",
    "    \n",
    "    For example:\n",
    "     if Tup = (10, 20, 30, 40) it is fine but if you try to change the value of tup[2] = 80, that is to edit the data in tuple,      then an error will be generated."
   ]
  },
  {
   "cell_type": "code",
   "execution_count": 15,
   "id": "7373ddc5",
   "metadata": {},
   "outputs": [
    {
     "name": "stdout",
     "output_type": "stream",
     "text": [
      "(10, 20, 30, 40, 50)\n",
      "(10, 20, 30)\n",
      "30\n"
     ]
    }
   ],
   "source": [
    "Tup = (10, 20, 30, 40, 50)\n",
    "\n",
    "print(Tup)        #print all the element of Tupple\n",
    "print(Tup[0:3])   #print element starting from first till 3rd\n",
    "print(Tup[2])     #print element starting from 3rd till 3rd"
   ]
  },
  {
   "cell_type": "code",
   "execution_count": 17,
   "id": "6645fc25",
   "metadata": {},
   "outputs": [
    {
     "ename": "TypeError",
     "evalue": "'tuple' object does not support item assignment",
     "output_type": "error",
     "traceback": [
      "\u001b[1;31m---------------------------------------------------------------------------\u001b[0m",
      "\u001b[1;31mTypeError\u001b[0m                                 Traceback (most recent call last)",
      "\u001b[1;32m<ipython-input-17-8306d370fd43>\u001b[0m in \u001b[0;36m<module>\u001b[1;34m\u001b[0m\n\u001b[1;32m----> 1\u001b[1;33m \u001b[0mTup\u001b[0m\u001b[1;33m[\u001b[0m\u001b[1;36m2\u001b[0m\u001b[1;33m]\u001b[0m \u001b[1;33m=\u001b[0m \u001b[1;36m80\u001b[0m\u001b[1;33m\u001b[0m\u001b[1;33m\u001b[0m\u001b[0m\n\u001b[0m",
      "\u001b[1;31mTypeError\u001b[0m: 'tuple' object does not support item assignment"
     ]
    }
   ],
   "source": [
    "Tup[2] = 80 #we can not assign the value in Tupple"
   ]
  },
  {
   "cell_type": "markdown",
   "id": "209474d5",
   "metadata": {},
   "source": [
    "3. Dictionary \n",
    "   \n",
    "   Dctionary can store the data in key and value pair.\n",
    "   dictionary and list are mutable data type i.e thair value can be changed.\n",
    "   To acces the value in dictionary, you just need to specify the key in square bracket([]).\n",
    "   "
   ]
  },
  {
   "cell_type": "code",
   "execution_count": 23,
   "id": "6b143fc4",
   "metadata": {},
   "outputs": [
    {
     "name": "stdout",
     "output_type": "stream",
     "text": [
      "{'Item': 'Chocolate', 'price': 100, 'place': 'Delhi', 'a': 10}\n",
      "Chocolate\n"
     ]
    }
   ],
   "source": [
    "dict = {\"Item\" : \"Chocolate\", \"price\" : 100, \"place\" : \"Delhi\", \"a\" : 10}\n",
    "\n",
    "print(dict)             #print all the keys and values of dictionary\n",
    "print(dict[\"Item\"])     #print the value of item"
   ]
  },
  {
   "cell_type": "code",
   "execution_count": 26,
   "id": "3bf495f9",
   "metadata": {},
   "outputs": [
    {
     "name": "stdout",
     "output_type": "stream",
     "text": [
      "{'Item': 'Chocolate', 'price': 20, 'place': 'Delhi', 'a': 10}\n"
     ]
    }
   ],
   "source": [
    "dict[\"price\"] = 20    #here you can change the value of any key\n",
    "\n",
    "print(dict)"
   ]
  },
  {
   "cell_type": "markdown",
   "id": "809d4641",
   "metadata": {},
   "source": [
    "4. what is expression made up of? what do all expressions do?"
   ]
  },
  {
   "cell_type": "markdown",
   "id": "94189137",
   "metadata": {},
   "source": [
    "Ans-\n",
    "Expression is a combination of operands and operators that is interpreted to produce some other values.\n",
    "Expressions are representation of values. \n",
    "They are different from statement in the fact that statements do something while expressions are representation of value. -For example any string is also an expressions since it represents the value of the string as well."
   ]
  },
  {
   "cell_type": "markdown",
   "id": "d3b6ca63",
   "metadata": {},
   "source": [
    " 5. This assignment statements, like spam = 10. What is the difference between an expression and a statement?"
   ]
  },
  {
   "cell_type": "markdown",
   "id": "11780610",
   "metadata": {},
   "source": [
    "Ans-   An expression always evaluate the values. And a statement do like creating a variable or displaying the value,.expression only does whatever statement says."
   ]
  },
  {
   "cell_type": "markdown",
   "id": "6d8bec43",
   "metadata": {},
   "source": [
    "6. After running the following code, what does the variable bacon contain?\n",
    "\n",
    "\n",
    "bacon = 22\n",
    "\n",
    "bacon + 1\n"
   ]
  },
  {
   "cell_type": "code",
   "execution_count": 2,
   "id": "1f1144e8",
   "metadata": {},
   "outputs": [
    {
     "data": {
      "text/plain": [
       "23"
      ]
     },
     "execution_count": 2,
     "metadata": {},
     "output_type": "execute_result"
    }
   ],
   "source": [
    "bacon=22\n",
    "bacon+1"
   ]
  },
  {
   "cell_type": "markdown",
   "id": "b8e3a4fe",
   "metadata": {},
   "source": [
    "7. What should the values of the following two terms be?\n",
    "\n",
    "'spam' + 'spamspam'\n",
    "\n",
    "'spam' * 3\n"
   ]
  },
  {
   "cell_type": "code",
   "execution_count": 1,
   "id": "34f6631e",
   "metadata": {},
   "outputs": [
    {
     "data": {
      "text/plain": [
       "'spamspamspam'"
      ]
     },
     "execution_count": 1,
     "metadata": {},
     "output_type": "execute_result"
    }
   ],
   "source": [
    "'spam'+'spamspam'"
   ]
  },
  {
   "cell_type": "code",
   "execution_count": 2,
   "id": "352c9bdc",
   "metadata": {},
   "outputs": [
    {
     "data": {
      "text/plain": [
       "'spamspamspam'"
      ]
     },
     "execution_count": 2,
     "metadata": {},
     "output_type": "execute_result"
    }
   ],
   "source": [
    "'spam'*3"
   ]
  },
  {
   "cell_type": "markdown",
   "id": "73cdd305",
   "metadata": {},
   "source": [
    "Both are same"
   ]
  },
  {
   "cell_type": "code",
   "execution_count": null,
   "id": "de1d8ca7",
   "metadata": {},
   "outputs": [],
   "source": []
  },
  {
   "cell_type": "markdown",
   "id": "a177384e",
   "metadata": {},
   "source": [
    "8. Why is eggs a valid variable name while 100 is invalid?"
   ]
  },
  {
   "cell_type": "markdown",
   "id": "a9dfb864",
   "metadata": {},
   "source": [
    "sol- because variables name can not start with any number. variable can be group of digit or number but it should be satrt with latter or underscore. so here \"eggs\" is start with latter so it is a valid variable where as 100 is invalid"
   ]
  },
  {
   "cell_type": "code",
   "execution_count": null,
   "id": "d258b5c3",
   "metadata": {},
   "outputs": [],
   "source": []
  },
  {
   "cell_type": "markdown",
   "id": "bec909e3",
   "metadata": {},
   "source": [
    "9. What three functions can be used to get the integer, floating-point number, or string\n",
    "version of a value?"
   ]
  },
  {
   "cell_type": "code",
   "execution_count": 6,
   "id": "85b67c4d",
   "metadata": {},
   "outputs": [
    {
     "data": {
      "text/plain": [
       "10"
      ]
     },
     "execution_count": 6,
     "metadata": {},
     "output_type": "execute_result"
    }
   ],
   "source": [
    "#sol-  \n",
    "\n",
    "int(10)\n"
   ]
  },
  {
   "cell_type": "code",
   "execution_count": 7,
   "id": "1df93398",
   "metadata": {},
   "outputs": [
    {
     "data": {
      "text/plain": [
       "'ravi'"
      ]
     },
     "execution_count": 7,
     "metadata": {},
     "output_type": "execute_result"
    }
   ],
   "source": [
    "str('ravi')"
   ]
  },
  {
   "cell_type": "code",
   "execution_count": 8,
   "id": "910e27d1",
   "metadata": {},
   "outputs": [
    {
     "data": {
      "text/plain": [
       "3.4"
      ]
     },
     "execution_count": 8,
     "metadata": {},
     "output_type": "execute_result"
    }
   ],
   "source": [
    "float(3.4)"
   ]
  },
  {
   "cell_type": "code",
   "execution_count": null,
   "id": "9ccb2edb",
   "metadata": {},
   "outputs": [],
   "source": []
  },
  {
   "cell_type": "markdown",
   "id": "0c664396",
   "metadata": {},
   "source": [
    "10. Why does this expression cause an error? How can you fix it?\n",
    "'I have eaten ' + 99 + ' burritos'."
   ]
  },
  {
   "cell_type": "code",
   "execution_count": 13,
   "id": "94af159c",
   "metadata": {},
   "outputs": [
    {
     "data": {
      "text/plain": [
       "'i have eaten 99 burritos'"
      ]
     },
     "execution_count": 13,
     "metadata": {},
     "output_type": "execute_result"
    }
   ],
   "source": [
    "'i have eaten ' + str(99) + ' burritos'"
   ]
  },
  {
   "cell_type": "code",
   "execution_count": null,
   "id": "1b334601",
   "metadata": {},
   "outputs": [],
   "source": []
  },
  {
   "cell_type": "code",
   "execution_count": null,
   "id": "ee708cec",
   "metadata": {},
   "outputs": [],
   "source": []
  }
 ],
 "metadata": {
  "kernelspec": {
   "display_name": "Python 3",
   "language": "python",
   "name": "python3"
  },
  "language_info": {
   "codemirror_mode": {
    "name": "ipython",
    "version": 3
   },
   "file_extension": ".py",
   "mimetype": "text/x-python",
   "name": "python",
   "nbconvert_exporter": "python",
   "pygments_lexer": "ipython3",
   "version": "3.8.8"
  }
 },
 "nbformat": 4,
 "nbformat_minor": 5
}
