{
 "cells": [
  {
   "cell_type": "raw",
   "id": "f9fb31f8",
   "metadata": {},
   "source": [
    "1. In the below elements which of them are values or an expression? eg:- values can be integer or string and expressions will be mathematical operators.\n",
    "* \n",
    "'hello'\n",
    "-87.8\n",
    "- \n",
    "/ \n",
    "+\t\n",
    "6 \n",
    "# "
   ]
  },
  {
   "cell_type": "code",
   "execution_count": 14,
   "id": "104e2734",
   "metadata": {},
   "outputs": [
    {
     "name": "stdout",
     "output_type": "stream",
     "text": [
      "('hello', -87.8, 6)\n"
     ]
    }
   ],
   "source": [
    "#values:\n",
    "\n",
    "a = 'hello' , -87.8, 6\n",
    "print(a)\n"
   ]
  },
  {
   "cell_type": "code",
   "execution_count": null,
   "id": "e86dc833",
   "metadata": {},
   "outputs": [],
   "source": [
    "#expressions:\n",
    "*\n",
    "+\n",
    "-\n",
    "/\n"
   ]
  },
  {
   "cell_type": "markdown",
   "id": "6dae7c1e",
   "metadata": {},
   "source": [
    "2. What is the difference between String and variable\n"
   ]
  },
  {
   "cell_type": "code",
   "execution_count": null,
   "id": "ee4797ba",
   "metadata": {},
   "outputs": [],
   "source": [
    "#String:-\n",
    "\n",
    "'''\n",
    "String is a group of character.\n",
    "if we want to use a text in python then we have to use string.\n",
    "string can be use in Single quotes('') and double quotes(\"\").\n",
    "'''\n",
    "\n",
    "#Variable:-\n",
    "\n",
    "'''\n",
    "variables are reserved memory locations that stores values.\n",
    "\n",
    "'''"
   ]
  },
  {
   "cell_type": "markdown",
   "id": "2b235313",
   "metadata": {},
   "source": [
    "3. Describe three different data types.\n",
    "\n",
    "-> Variables can hold value of diffrent data type is called Data type.In which we are describing the following three Data types:\n",
    "    \n",
    "    1. List:\n",
    "    \n",
    "    A list consist of items seprated by commas and enclosed within square bracket "
   ]
  },
  {
   "cell_type": "code",
   "execution_count": 13,
   "id": "90575628",
   "metadata": {},
   "outputs": [
    {
     "name": "stdout",
     "output_type": "stream",
     "text": [
      "[10, 'ab', 'ravi', 'kumar']\n",
      "10\n",
      "[10, 'ab', 'ravi']\n",
      "['kumar']\n",
      "[10, 'ab', [20], 'kumar']\n"
     ]
    }
   ],
   "source": [
    "# For exampple \n",
    "# program for demonastrate operation on list\n",
    "\n",
    "l = [10, 'ab' , 'ravi' , ('kumar')]\n",
    "\n",
    "print(l)              #print all elements of list\n",
    "print(l[0])           #print first element of list\n",
    "print(l[0:3])        #print element starting from first to first till 3rd\n",
    "print(l[3:4])         #print elemenr starting from 4th to till 4th\n",
    "l[2] = [20]           #we can change the value in a list\n",
    "print(l)"
   ]
  },
  {
   "cell_type": "markdown",
   "id": "7245a4e5",
   "metadata": {},
   "source": [
    "2. Tupple\n",
    "    In typple we can nat change the value. This means that Tupple is a read-only data type.\n",
    "    \n",
    "    For example:\n",
    "     if Tup = (10, 20, 30, 40) it is fine but if you try to change the value of tup[2] = 80, that is to edit the data in tuple,      then an error will be generated."
   ]
  },
  {
   "cell_type": "code",
   "execution_count": 15,
   "id": "7373ddc5",
   "metadata": {},
   "outputs": [
    {
     "name": "stdout",
     "output_type": "stream",
     "text": [
      "(10, 20, 30, 40, 50)\n",
      "(10, 20, 30)\n",
      "30\n"
     ]
    }
   ],
   "source": [
    "Tup = (10, 20, 30, 40, 50)\n",
    "\n",
    "print(Tup)        #print all the element of Tupple\n",
    "print(Tup[0:3])   #print element starting from first till 3rd\n",
    "print(Tup[2])     #print element starting from 3rd till 3rd"
   ]
  },
  {
   "cell_type": "code",
   "execution_count": 17,
   "id": "6645fc25",
   "metadata": {},
   "outputs": [
    {
     "ename": "TypeError",
     "evalue": "'tuple' object does not support item assignment",
     "output_type": "error",
     "traceback": [
      "\u001b[1;31m---------------------------------------------------------------------------\u001b[0m",
      "\u001b[1;31mTypeError\u001b[0m                                 Traceback (most recent call last)",
      "\u001b[1;32m<ipython-input-17-8306d370fd43>\u001b[0m in \u001b[0;36m<module>\u001b[1;34m\u001b[0m\n\u001b[1;32m----> 1\u001b[1;33m \u001b[0mTup\u001b[0m\u001b[1;33m[\u001b[0m\u001b[1;36m2\u001b[0m\u001b[1;33m]\u001b[0m \u001b[1;33m=\u001b[0m \u001b[1;36m80\u001b[0m\u001b[1;33m\u001b[0m\u001b[1;33m\u001b[0m\u001b[0m\n\u001b[0m",
      "\u001b[1;31mTypeError\u001b[0m: 'tuple' object does not support item assignment"
     ]
    }
   ],
   "source": [
    "Tup[2] = 80 #we can not assign the value in Tupple"
   ]
  },
  {
   "cell_type": "markdown",
   "id": "209474d5",
   "metadata": {},
   "source": [
    "3. Dictionary \n",
    "   \n",
    "   Dctionary can store the data in key and value pair.\n",
    "   dictionary and list are mutable data type i.e thair value can be changed.\n",
    "   To acces the value in dictionary, you just need to specify the key in square bracket([]).\n",
    "   "
   ]
  },
  {
   "cell_type": "code",
   "execution_count": 23,
   "id": "6b143fc4",
   "metadata": {},
   "outputs": [
    {
     "name": "stdout",
     "output_type": "stream",
     "text": [
      "{'Item': 'Chocolate', 'price': 100, 'place': 'Delhi', 'a': 10}\n",
      "Chocolate\n"
     ]
    }
   ],
   "source": [
    "dict = {\"Item\" : \"Chocolate\", \"price\" : 100, \"place\" : \"Delhi\", \"a\" : 10}\n",
    "\n",
    "print(dict)             #print all the keys and values of dictionary\n",
    "print(dict[\"Item\"])     #print the value of item"
   ]
  },
  {
   "cell_type": "code",
   "execution_count": 26,
   "id": "3bf495f9",
   "metadata": {},
   "outputs": [
    {
     "name": "stdout",
     "output_type": "stream",
     "text": [
      "{'Item': 'Chocolate', 'price': 20, 'place': 'Delhi', 'a': 10}\n"
     ]
    }
   ],
   "source": [
    "dict[\"price\"] = 20    #here you can change the value of any key\n",
    "\n",
    "print(dict)"
   ]
  },
  {
   "cell_type": "markdown",
   "id": "809d4641",
   "metadata": {},
   "source": [
    "4. what is expression made up of? what do all expressions do?"
   ]
  },
  {
   "cell_type": "markdown",
   "id": "94189137",
   "metadata": {},
   "source": [
    "Ans-\n",
    "Expression is a combination of operands and operators that is interpreted to produce some other values.\n",
    "Expressions are representation of values. \n",
    "They are different from statement in the fact that statements do something while expressions are representation of value. -For example any string is also an expressions since it represents the value of the string as well."
   ]
  },
  {
   "cell_type": "markdown",
   "id": "d3b6ca63",
   "metadata": {},
   "source": [
    " 5. This assignment statements, like spam = 10. What is the difference between an expression and a statement?"
   ]
  },
  {
   "cell_type": "markdown",
   "id": "11780610",
   "metadata": {},
   "source": [
    "Ans-   An expression always evaluate the values. And a statement do like creating a variable or displaying the value,.expression only does whatever statement says."
   ]
  },
  {
   "cell_type": "markdown",
   "id": "6d8bec43",
   "metadata": {},
   "source": [
    "6. After running the following code, what does the variable bacon contain?\n",
    "\n",
    "\n",
    "bacon = 22\n",
    "\n",
    "bacon + 1\n"
   ]
  },
  {
   "cell_type": "code",
   "execution_count": 2,
   "id": "1f1144e8",
   "metadata": {},
   "outputs": [
    {
     "data": {
      "text/plain": [
       "23"
      ]
     },
     "execution_count": 2,
     "metadata": {},
     "output_type": "execute_result"
    }
   ],
   "source": [
    "bacon=22\n",
    "bacon+1"
   ]
  },
  {
   "cell_type": "markdown",
   "id": "b8e3a4fe",
   "metadata": {},
   "source": [
    "7. What should the values of the following two terms be?\n",
    "\n",
    "'spam' + 'spamspam'\n",
    "\n",
    "'spam' * 3\n"
   ]
  },
  {
   "cell_type": "code",
   "execution_count": 1,
   "id": "34f6631e",
   "metadata": {},
   "outputs": [
    {
     "data": {
      "text/plain": [
       "'spamspamspam'"
      ]
     },
     "execution_count": 1,
     "metadata": {},
     "output_type": "execute_result"
    }
   ],
   "source": [
    "'spam'+'spamspam'"
   ]
  },
  {
   "cell_type": "code",
   "execution_count": 2,
   "id": "352c9bdc",
   "metadata": {},
   "outputs": [
    {
     "data": {
      "text/plain": [
       "'spamspamspam'"
      ]
     },
     "execution_count": 2,
     "metadata": {},
     "output_type": "execute_result"
    }
   ],
   "source": [
    "'spam'*3"
   ]
  },
  {
   "cell_type": "markdown",
   "id": "73cdd305",
   "metadata": {},
   "source": [
    "Both are same"
   ]
  },
  {
   "cell_type": "code",
   "execution_count": null,
   "id": "de1d8ca7",
   "metadata": {},
   "outputs": [],
   "source": []
  },
  {
   "cell_type": "markdown",
   "id": "a177384e",
   "metadata": {},
   "source": [
    "8. Why is eggs a valid variable name while 100 is invalid?"
   ]
  },
  {
   "cell_type": "markdown",
   "id": "a9dfb864",
   "metadata": {},
   "source": [
    "sol- because variables name can not start with any number. variable can be group of digit or number but it should be satrt with latter or underscore. so here \"eggs\" is start with latter so it is a valid variable where as 100 is invalid"
   ]
  },
  {
   "cell_type": "code",
   "execution_count": null,
   "id": "d258b5c3",
   "metadata": {},
   "outputs": [],
   "source": []
  },
  {
   "cell_type": "markdown",
   "id": "bec909e3",
   "metadata": {},
   "source": [
    "9. What three functions can be used to get the integer, floating-point number, or string\n",
    "version of a value?"
   ]
  },
  {
   "cell_type": "code",
   "execution_count": 6,
   "id": "85b67c4d",
   "metadata": {},
   "outputs": [
    {
     "data": {
      "text/plain": [
       "10"
      ]
     },
     "execution_count": 6,
     "metadata": {},
     "output_type": "execute_result"
    }
   ],
   "source": [
    "#sol-  \n",
    "\n",
    "int(10)\n"
   ]
  },
  {
   "cell_type": "code",
   "execution_count": 7,
   "id": "1df93398",
   "metadata": {},
   "outputs": [
    {
     "data": {
      "text/plain": [
       "'ravi'"
      ]
     },
     "execution_count": 7,
     "metadata": {},
     "output_type": "execute_result"
    }
   ],
   "source": [
    "str('ravi')"
   ]
  },
  {
   "cell_type": "code",
   "execution_count": 8,
   "id": "910e27d1",
   "metadata": {},
   "outputs": [
    {
     "data": {
      "text/plain": [
       "3.4"
      ]
     },
     "execution_count": 8,
     "metadata": {},
     "output_type": "execute_result"
    }
   ],
   "source": [
    "float(3.4)"
   ]
  },
  {
   "cell_type": "code",
   "execution_count": null,
   "id": "9ccb2edb",
   "metadata": {},
   "outputs": [],
   "source": []
  },
  {
   "cell_type": "markdown",
   "id": "0c664396",
   "metadata": {},
   "source": [
    "10. Why does this expression cause an error? How can you fix it?\n",
    "'I have eaten ' + 99 + ' burritos'."
   ]
  },
  {
   "cell_type": "code",
   "execution_count": 13,
   "id": "94af159c",
   "metadata": {},
   "outputs": [
    {
     "data": {
      "text/plain": [
       "'i have eaten 99 burritos'"
      ]
     },
     "execution_count": 13,
     "metadata": {},
     "output_type": "execute_result"
    }
   ],
   "source": [
    "'i have eaten ' + str(99) + ' burritos'"
   ]
  },
  {
   "cell_type": "code",
   "execution_count": 15,
   "id": "1b334601",
   "metadata": {},
   "outputs": [
    {
     "name": "stdout",
     "output_type": "stream",
     "text": [
      " Volume in drive C is Windows\n",
      " Volume Serial Number is EC00-9DF2\n",
      "\n",
      " Directory of C:\\Users\\91892\n",
      "\n",
      "03/10/2022  07:27 PM    <DIR>          .\n",
      "11/02/2021  02:41 PM    <DIR>          ..\n",
      "01/22/2022  08:15 PM    <DIR>          .anaconda\n",
      "11/16/2021  10:08 PM               495 .bash_history\n",
      "02/22/2022  09:09 AM    <DIR>          .conda\n",
      "07/20/2021  10:31 PM                25 .condarc\n",
      "07/20/2021  10:30 PM    <DIR>          .continuum\n",
      "07/23/2021  11:59 PM    <DIR>          .idlerc\n",
      "03/09/2022  10:14 PM    <DIR>          .ipynb_checkpoints\n",
      "07/20/2021  08:09 PM    <DIR>          .ipython\n",
      "10/27/2021  06:10 PM    <DIR>          .jupyter\n",
      "07/20/2021  08:09 PM    <DIR>          .matplotlib\n",
      "09/17/2021  08:22 PM    <DIR>          .spyder-py3\n",
      "07/20/2021  04:40 PM    <DIR>          .vscode\n",
      "02/21/2022  11:19 AM    <DIR>          18_dec_liveclass_Tupple\n",
      "07/25/2021  06:17 AM    <DIR>          3D Objects\n",
      "03/10/2022  07:27 PM            12,236 Assignment_1.ipynb\n",
      "01/23/2022  04:51 PM               576 Assignment_2.ipynb\n",
      "11/02/2021  04:03 PM    <DIR>          Contacts\n",
      "01/26/2022  03:32 PM            14,758 Decision_control_statement.ipynb\n",
      "01/29/2022  04:12 PM             1,831 Decision_control_statement_exercises.ipynb\n",
      "07/26/2021  04:56 PM    <DIR>          Documents\n",
      "03/10/2022  12:15 PM    <DIR>          Downloads\n",
      "11/02/2021  04:03 PM    <DIR>          Favorites\n",
      "01/08/2022  12:39 PM            11,477 function.ipynb\n",
      "03/09/2022  10:28 PM             1,977 GUI programming-1.ipynb\n",
      "03/10/2022  04:31 PM    <DIR>          Ineuron_Data_Science_Live_class\n",
      "07/20/2021  10:43 PM    <DIR>          Jedi\n",
      "11/02/2021  04:03 PM    <DIR>          Links\n",
      "11/02/2021  04:03 PM    <DIR>          Music\n",
      "03/10/2022  06:52 PM    <DIR>          OneDrive\n",
      "01/23/2022  12:44 PM             4,774 OOPs concept.ipynb\n",
      "02/23/2022  06:21 PM            52,449 Pandas.ipynb\n",
      "11/02/2021  04:03 PM    <DIR>          Saved Games\n",
      "11/02/2021  04:03 PM    <DIR>          Searches\n",
      "01/15/2022  10:46 AM                 6 test.txt\n",
      "10/24/2021  01:44 PM             2,647 Time in python.ipynb\n",
      "10/19/2021  03:54 PM               879 Time_and_Calender.ipynb\n",
      "08/10/2021  08:36 PM    <DIR>          Tracing\n",
      "10/27/2021  06:10 PM    <DIR>          Untitled Folder\n",
      "10/27/2021  06:10 PM    <DIR>          Untitled Folder 1\n",
      "02/05/2022  05:40 PM    <DIR>          Untitled Folder 2\n",
      "03/10/2022  12:17 PM    <DIR>          Untitled Folder 3\n",
      "02/06/2022  02:39 PM            12,557 Untitled.ipynb\n",
      "10/27/2021  06:10 PM                 0 untitled.txt\n",
      "01/15/2022  10:52 AM             4,138 Untitled1.ipynb\n",
      "02/13/2022  10:50 AM             2,142 Untitled2.ipynb\n",
      "02/22/2022  12:34 PM            31,818 Untitled3.ipynb\n",
      "02/22/2022  12:30 PM            14,003 Untitled4.ipynb\n",
      "02/25/2022  08:03 PM            84,291 Untitled5.ipynb\n",
      "02/26/2022  12:57 PM            57,635 Untitled6.ipynb\n",
      "03/08/2022  08:06 PM             2,321 Untitled7.ipynb\n",
      "01/13/2022  06:06 PM    <DIR>          Videos\n",
      "              22 File(s)        313,035 bytes\n",
      "              31 Dir(s)  85,085,696,000 bytes free\n"
     ]
    }
   ],
   "source": [
    "ls"
   ]
  },
  {
   "cell_type": "code",
   "execution_count": null,
   "id": "a138162c",
   "metadata": {},
   "outputs": [],
   "source": []
  }
 ],
 "metadata": {
  "kernelspec": {
   "display_name": "Python 3",
   "language": "python",
   "name": "python3"
  },
  "language_info": {
   "codemirror_mode": {
    "name": "ipython",
    "version": 3
   },
   "file_extension": ".py",
   "mimetype": "text/x-python",
   "name": "python",
   "nbconvert_exporter": "python",
   "pygments_lexer": "ipython3",
   "version": "3.8.8"
  }
 },
 "nbformat": 4,
 "nbformat_minor": 5
}
