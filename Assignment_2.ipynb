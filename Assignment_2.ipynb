{
 "cells": [
  {
   "cell_type": "markdown",
   "id": "ba7f558f",
   "metadata": {},
   "source": [
    "1.What are the two values of the Boolean data type? How do you write them?"
   ]
  },
  {
   "cell_type": "code",
   "execution_count": null,
   "id": "5932121c",
   "metadata": {},
   "outputs": [],
   "source": [
    "solution:-  Boolean data types provides two in-built data types are \"True\" and \"False\".\n",
    "            these values are used to determine the given statement True or False."
   ]
  },
  {
   "cell_type": "code",
   "execution_count": 3,
   "id": "a831857f",
   "metadata": {},
   "outputs": [
    {
     "name": "stdout",
     "output_type": "stream",
     "text": [
      "False\n",
      "True\n"
     ]
    }
   ],
   "source": [
    "#    Example:\n",
    "\n",
    "a = 10>20\n",
    "b = 10<20\n",
    "\n",
    "print(a)\n",
    "print(b)"
   ]
  },
  {
   "cell_type": "code",
   "execution_count": null,
   "id": "79f3824d",
   "metadata": {},
   "outputs": [],
   "source": []
  },
  {
   "cell_type": "markdown",
   "id": "687ad4f7",
   "metadata": {},
   "source": [
    "2. What are the three different types of Boolean operators?"
   ]
  },
  {
   "cell_type": "code",
   "execution_count": null,
   "id": "c482b785",
   "metadata": {},
   "outputs": [],
   "source": [
    "Three data types of boolean operator are:-\n",
    "    \n",
    "    1. AND\n",
    "    2. OR\n",
    "    3. NOT"
   ]
  },
  {
   "cell_type": "code",
   "execution_count": null,
   "id": "b84f09cf",
   "metadata": {},
   "outputs": [],
   "source": []
  },
  {
   "cell_type": "markdown",
   "id": "61816b23",
   "metadata": {},
   "source": [
    "3. Make a list of each Boolean operator truth tables (i.e. every possible combination of Boolean\n",
    "values for the operator and what it evaluate )."
   ]
  },
  {
   "cell_type": "code",
   "execution_count": null,
   "id": "ef43b4c7",
   "metadata": {},
   "outputs": [],
   "source": [
    "1. Boolean operator 'AND' truth table:-"
   ]
  },
  {
   "cell_type": "code",
   "execution_count": 2,
   "id": "0b88e795",
   "metadata": {},
   "outputs": [
    {
     "data": {
      "text/plain": [
       "False"
      ]
     },
     "execution_count": 2,
     "metadata": {},
     "output_type": "execute_result"
    }
   ],
   "source": [
    "True and True   = True\n",
    "True and False  = False\n",
    "False and True  = False\n",
    "False and False = False"
   ]
  },
  {
   "cell_type": "code",
   "execution_count": null,
   "id": "c9ecfacb",
   "metadata": {},
   "outputs": [],
   "source": [
    "2. Boolean operator 'OR' truth tables:-"
   ]
  },
  {
   "cell_type": "code",
   "execution_count": 7,
   "id": "e855044f",
   "metadata": {},
   "outputs": [
    {
     "data": {
      "text/plain": [
       "False"
      ]
     },
     "execution_count": 7,
     "metadata": {},
     "output_type": "execute_result"
    }
   ],
   "source": [
    "True or True   = True\n",
    "True or False  = True\n",
    "False or True  = True\n",
    "False or False = False"
   ]
  },
  {
   "cell_type": "code",
   "execution_count": null,
   "id": "a64591bd",
   "metadata": {},
   "outputs": [],
   "source": [
    "3. Boolean operator 'NOT' truth tables:-"
   ]
  },
  {
   "cell_type": "code",
   "execution_count": 3,
   "id": "406c7b59",
   "metadata": {},
   "outputs": [
    {
     "data": {
      "text/plain": [
       "True"
      ]
     },
     "execution_count": 3,
     "metadata": {},
     "output_type": "execute_result"
    }
   ],
   "source": [
    "not True = False\n",
    "not False = True"
   ]
  },
  {
   "cell_type": "markdown",
   "id": "b04e0875",
   "metadata": {},
   "source": [
    "4. What are the values of the following expressions?"
   ]
  },
  {
   "cell_type": "markdown",
   "id": "17da7abe",
   "metadata": {},
   "source": [
    "(5 > 4) and (3 == 5)\n",
    "not (5 > 4)\n",
    "(5 > 4) or (3 == 5)\n",
    "not ((5 > 4) or (3 == 5))\n",
    "(True and True) and (True == False)\n",
    "(not False) or (not True)\n"
   ]
  },
  {
   "cell_type": "code",
   "execution_count": 16,
   "id": "149294d0",
   "metadata": {},
   "outputs": [
    {
     "data": {
      "text/plain": [
       "False"
      ]
     },
     "execution_count": 16,
     "metadata": {},
     "output_type": "execute_result"
    }
   ],
   "source": [
    "(5 > 4) and (3 == 5)"
   ]
  },
  {
   "cell_type": "code",
   "execution_count": 17,
   "id": "06b8c938",
   "metadata": {},
   "outputs": [
    {
     "data": {
      "text/plain": [
       "False"
      ]
     },
     "execution_count": 17,
     "metadata": {},
     "output_type": "execute_result"
    }
   ],
   "source": [
    "not (5>4)"
   ]
  },
  {
   "cell_type": "code",
   "execution_count": 18,
   "id": "02c0ae40",
   "metadata": {},
   "outputs": [
    {
     "data": {
      "text/plain": [
       "True"
      ]
     },
     "execution_count": 18,
     "metadata": {},
     "output_type": "execute_result"
    }
   ],
   "source": [
    "(5 > 4) or (3 == 5)"
   ]
  },
  {
   "cell_type": "code",
   "execution_count": 19,
   "id": "9e48239b",
   "metadata": {},
   "outputs": [
    {
     "data": {
      "text/plain": [
       "False"
      ]
     },
     "execution_count": 19,
     "metadata": {},
     "output_type": "execute_result"
    }
   ],
   "source": [
    "not ((5 > 4) or (3 == 5))"
   ]
  },
  {
   "cell_type": "code",
   "execution_count": 20,
   "id": "3e72b3d7",
   "metadata": {},
   "outputs": [
    {
     "data": {
      "text/plain": [
       "False"
      ]
     },
     "execution_count": 20,
     "metadata": {},
     "output_type": "execute_result"
    }
   ],
   "source": [
    "(True and True) and (True == False)"
   ]
  },
  {
   "cell_type": "code",
   "execution_count": 21,
   "id": "6e745807",
   "metadata": {},
   "outputs": [
    {
     "data": {
      "text/plain": [
       "True"
      ]
     },
     "execution_count": 21,
     "metadata": {},
     "output_type": "execute_result"
    }
   ],
   "source": [
    "(not False) or (not True)"
   ]
  },
  {
   "cell_type": "code",
   "execution_count": null,
   "id": "2b5b8dea",
   "metadata": {},
   "outputs": [],
   "source": []
  },
  {
   "cell_type": "markdown",
   "id": "c28cca6f",
   "metadata": {},
   "source": [
    "5. What are the six comparison operators?"
   ]
  },
  {
   "cell_type": "code",
   "execution_count": null,
   "id": "7a12cbaf",
   "metadata": {},
   "outputs": [],
   "source": [
    "1. ==  \"Equal\"                     \"x==y\"\n",
    "2. <   \"Less than\"                 \"x<y\"\n",
    "3. <=  \"Less than or eual to \"     \"x<=y\"\n",
    "4. >   \"Grater\"                    \"x>y\"\n",
    "5. >=  \"Grater than or equal to\"   \"x>=y\"\n",
    "6. !=  \"not equal to\"              \"x!=y\""
   ]
  },
  {
   "cell_type": "code",
   "execution_count": null,
   "id": "67eff2fd",
   "metadata": {},
   "outputs": [],
   "source": []
  },
  {
   "cell_type": "markdown",
   "id": "f0939d56",
   "metadata": {},
   "source": [
    "6. How do you tell the difference between the equal to and assignment operators?Describe a condition and when you would use one."
   ]
  },
  {
   "cell_type": "code",
   "execution_count": null,
   "id": "71c3708f",
   "metadata": {},
   "outputs": [],
   "source": [
    "\"\"\"\n",
    "\n",
    "\"\"\""
   ]
  },
  {
   "cell_type": "markdown",
   "id": "abc2a59a",
   "metadata": {},
   "source": [
    "7. Identify the three blocks in this code:\n",
    "spam = 0\n",
    "if spam == 10:\n",
    "print(eggs)\n",
    "if spam > 5:\n",
    "print(bacon)\n",
    "else:\n",
    "print(ham)\n",
    "print(spam)\n",
    "print(spam)"
   ]
  },
  {
   "cell_type": "code",
   "execution_count": 9,
   "id": "428a524d",
   "metadata": {},
   "outputs": [],
   "source": [
    "#Block_1\n",
    "\n",
    "spam = 0\n",
    "if spam == 10:\n",
    "    print('eggs')"
   ]
  },
  {
   "cell_type": "code",
   "execution_count": 10,
   "id": "5d70d98b",
   "metadata": {},
   "outputs": [
    {
     "name": "stdout",
     "output_type": "stream",
     "text": [
      "ham\n"
     ]
    }
   ],
   "source": [
    "#Block_2\n",
    "\n",
    "spam = 0\n",
    "if spam >5:\n",
    "    print('bacon')\n",
    "else:\n",
    "    print('ham')"
   ]
  },
  {
   "cell_type": "code",
   "execution_count": 11,
   "id": "b5db5acd",
   "metadata": {},
   "outputs": [
    {
     "name": "stdout",
     "output_type": "stream",
     "text": [
      "0\n"
     ]
    }
   ],
   "source": [
    "#block_3\n",
    "\n",
    "spam = 0\n",
    "\n",
    "print(spam)"
   ]
  },
  {
   "cell_type": "markdown",
   "id": "a9ccf9e5",
   "metadata": {},
   "source": [
    "8. Write code that prints Hello if 1 is stored in spam, prints Howdy if 2 is stored in spam, and prints Greetings! \n",
    "if anything else is stored in spam."
   ]
  },
  {
   "cell_type": "code",
   "execution_count": 17,
   "id": "25c79093",
   "metadata": {},
   "outputs": [
    {
     "name": "stdout",
     "output_type": "stream",
     "text": [
      "Enter the number: rrfre\n",
      "Greetings!\n"
     ]
    }
   ],
   "source": [
    "#taking input from user:-\n",
    "spam = input('Enter the number: ')\n",
    "\n",
    "if spam == 1:\n",
    "    print(\"Hello\")\n",
    "\n",
    "elif spam == 2:\n",
    "    print('Howdy')\n",
    "    \n",
    "else:\n",
    "    print('Greetings!')"
   ]
  },
  {
   "cell_type": "code",
   "execution_count": null,
   "id": "d4a86b1d",
   "metadata": {},
   "outputs": [],
   "source": []
  },
  {
   "cell_type": "markdown",
   "id": "cf153431",
   "metadata": {},
   "source": [
    "9.If your programme is stuck in an endless loop, what keys you’ll press?"
   ]
  },
  {
   "cell_type": "code",
   "execution_count": null,
   "id": "58887f1e",
   "metadata": {},
   "outputs": [],
   "source": [
    "ctr+c"
   ]
  },
  {
   "cell_type": "markdown",
   "id": "a0a33866",
   "metadata": {},
   "source": []
  },
  {
   "cell_type": "code",
   "execution_count": null,
   "id": "113606dc",
   "metadata": {},
   "outputs": [],
   "source": []
  },
  {
   "cell_type": "code",
   "execution_count": null,
   "id": "38a1cba5",
   "metadata": {},
   "outputs": [],
   "source": []
  },
  {
   "cell_type": "raw",
   "id": "db35a04e",
   "metadata": {},
   "source": [
    "10. How can you tell the difference between break and continue?"
   ]
  },
  {
   "cell_type": "code",
   "execution_count": null,
   "id": "ba46cd1a",
   "metadata": {},
   "outputs": [],
   "source": [
    "#Break\n",
    "\n",
    "1. Break is used for bring the program control flow out of the loop.\n",
    "2. Break statement break the loop one by one i.e. in the case of outer loop it break the inner loop first and \n",
    "   then it call the outer loop\n",
    "3. Break is commonaly used for where we need to break the loop for given condition\n",
    "\n",
    "\n",
    "Syntex for beak:-\n",
    "   loop statement:\n",
    "    \n",
    "    break;\n",
    "    "
   ]
  },
  {
   "cell_type": "code",
   "execution_count": 17,
   "id": "beed9f51",
   "metadata": {},
   "outputs": [
    {
     "name": "stdout",
     "output_type": "stream",
     "text": [
      "r\n",
      "a\n",
      "v\n",
      "i\n",
      " \n",
      "k\n"
     ]
    }
   ],
   "source": [
    "#example:\n",
    "str = \"ravi kush\"\n",
    "\n",
    "for i in str:\n",
    "    if i =='u':\n",
    "        break;\n",
    "    print(i)"
   ]
  },
  {
   "cell_type": "code",
   "execution_count": null,
   "id": "abb92863",
   "metadata": {},
   "outputs": [],
   "source": [
    "#continue\n",
    "\n",
    "1. Continue statement is used for bring the control begining of the loop.\n",
    "2. continue statement skip the remaining lines of the code inside the loop and start with next iteration\n",
    "\n",
    "#suntax\n",
    "\n",
    "#loop statement\n",
    "\n",
    "continue\n",
    "\n",
    "#skiped statement"
   ]
  },
  {
   "cell_type": "code",
   "execution_count": 5,
   "id": "1ecd64aa",
   "metadata": {},
   "outputs": [
    {
     "name": "stdout",
     "output_type": "stream",
     "text": [
      "1\n",
      "2\n",
      "3\n",
      "4\n",
      "6\n",
      "7\n",
      "8\n",
      "9\n",
      "10\n"
     ]
    }
   ],
   "source": [
    "#example\n",
    "\n",
    "i = 0\n",
    "\n",
    "while(i<10):\n",
    "    i = i+1\n",
    "    if i == 5:\n",
    "        continue\n",
    "    print(i)"
   ]
  },
  {
   "cell_type": "code",
   "execution_count": null,
   "id": "b73c50ab",
   "metadata": {},
   "outputs": [],
   "source": []
  },
  {
   "cell_type": "markdown",
   "id": "8997dc46",
   "metadata": {},
   "source": [
    "11. In a for loop, what is the difference between range(10), range(0, 10), and range(0, 10, 1)?"
   ]
  },
  {
   "cell_type": "code",
   "execution_count": 6,
   "id": "edf16c73",
   "metadata": {},
   "outputs": [
    {
     "name": "stdout",
     "output_type": "stream",
     "text": [
      "0\n",
      "1\n",
      "2\n",
      "3\n",
      "4\n",
      "5\n",
      "6\n",
      "7\n",
      "8\n",
      "9\n"
     ]
    }
   ],
   "source": [
    "#range(10)\n",
    "\n",
    "for i in range(10):\n",
    "    print(i)\n",
    "    \n",
    "#here range(10) means It start by default from 0 and gives output from 0 to stop-1"
   ]
  },
  {
   "cell_type": "code",
   "execution_count": 9,
   "id": "6e9fdd02",
   "metadata": {},
   "outputs": [
    {
     "name": "stdout",
     "output_type": "stream",
     "text": [
      "0\n",
      "1\n",
      "2\n",
      "3\n",
      "4\n",
      "5\n",
      "6\n",
      "7\n",
      "8\n",
      "9\n"
     ]
    }
   ],
   "source": [
    "#range(0,10)\n",
    "\n",
    "for i in range(0,10):\n",
    "    print(i)\n",
    "    \n",
    "#here range(0,10) represents start and end of the loop. means the first value '0' is start point and '10' is stop-1 end point"
   ]
  },
  {
   "cell_type": "code",
   "execution_count": 12,
   "id": "674084ba",
   "metadata": {},
   "outputs": [
    {
     "name": "stdout",
     "output_type": "stream",
     "text": [
      "0\n",
      "1\n",
      "2\n",
      "3\n",
      "4\n",
      "5\n",
      "6\n",
      "7\n",
      "8\n",
      "9\n"
     ]
    }
   ],
   "source": [
    "#range(0, 10, 1)\n",
    "\n",
    "for i in range(0,10,1):\n",
    "    print(i)\n",
    "    \n",
    "#The step size is used to skip the specific numbers from the iteration. It is optional to use. By default, the step size is 1. It is optional."
   ]
  },
  {
   "cell_type": "code",
   "execution_count": null,
   "id": "13f540a2",
   "metadata": {},
   "outputs": [],
   "source": []
  },
  {
   "cell_type": "markdown",
   "id": "daf724c3",
   "metadata": {},
   "source": [
    "12. Write a short program that prints the numbers 1 to 10 using a for loop. Then write an equivalent program that prints the numbers 1 to 10 using a while loop."
   ]
  },
  {
   "cell_type": "code",
   "execution_count": 13,
   "id": "9f1b06fa",
   "metadata": {},
   "outputs": [
    {
     "name": "stdout",
     "output_type": "stream",
     "text": [
      "1\n",
      "2\n",
      "3\n",
      "4\n",
      "5\n",
      "6\n",
      "7\n",
      "8\n",
      "9\n",
      "10\n"
     ]
    }
   ],
   "source": [
    "#using for loop\n",
    "\n",
    "for i in range(1,11):\n",
    "    print(i)"
   ]
  },
  {
   "cell_type": "code",
   "execution_count": 2,
   "id": "36044487",
   "metadata": {},
   "outputs": [
    {
     "name": "stdout",
     "output_type": "stream",
     "text": [
      "1\n",
      "2\n",
      "3\n",
      "4\n",
      "5\n",
      "6\n",
      "7\n",
      "8\n",
      "9\n",
      "10\n"
     ]
    }
   ],
   "source": [
    "#using while loop\n",
    "i = 0\n",
    "while(i<10):\n",
    "    i = i+1\n",
    "    print(i)"
   ]
  },
  {
   "cell_type": "code",
   "execution_count": null,
   "id": "d8e997f1",
   "metadata": {},
   "outputs": [],
   "source": []
  },
  {
   "cell_type": "code",
   "execution_count": null,
   "id": "5acd7b36",
   "metadata": {},
   "outputs": [],
   "source": [
    "13. If you had a function named bacon() inside a module named spam, how would you call it after importing spam?"
   ]
  },
  {
   "cell_type": "code",
   "execution_count": 2,
   "id": "9d103ca5",
   "metadata": {},
   "outputs": [],
   "source": [
    "import os\n",
    "import spam"
   ]
  },
  {
   "cell_type": "code",
   "execution_count": 3,
   "id": "e38e3b2d",
   "metadata": {},
   "outputs": [
    {
     "data": {
      "text/plain": [
       "30"
      ]
     },
     "execution_count": 3,
     "metadata": {},
     "output_type": "execute_result"
    }
   ],
   "source": [
    "#calling test1 function which is writen in spam module\n",
    "spam.test1(10,20)"
   ]
  },
  {
   "cell_type": "code",
   "execution_count": null,
   "id": "d0dcafd8",
   "metadata": {},
   "outputs": [],
   "source": []
  }
 ],
 "metadata": {
  "kernelspec": {
   "display_name": "Python 3",
   "language": "python",
   "name": "python3"
  },
  "language_info": {
   "codemirror_mode": {
    "name": "ipython",
    "version": 3
   },
   "file_extension": ".py",
   "mimetype": "text/x-python",
   "name": "python",
   "nbconvert_exporter": "python",
   "pygments_lexer": "ipython3",
   "version": "3.8.8"
  }
 },
 "nbformat": 4,
 "nbformat_minor": 5
}
