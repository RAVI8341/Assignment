{
 "cells": [
  {
   "cell_type": "markdown",
   "id": "b91deb34",
   "metadata": {},
   "source": [
    "1.\tWrite a Python program to print \"Hello Python\"?"
   ]
  },
  {
   "cell_type": "code",
   "execution_count": 1,
   "id": "24d754b5",
   "metadata": {},
   "outputs": [
    {
     "name": "stdout",
     "output_type": "stream",
     "text": [
      "Hello Python\n"
     ]
    }
   ],
   "source": [
    "print('Hello Python')"
   ]
  },
  {
   "cell_type": "code",
   "execution_count": null,
   "id": "7dfb2728",
   "metadata": {},
   "outputs": [],
   "source": []
  },
  {
   "cell_type": "markdown",
   "id": "7f7b64cc",
   "metadata": {},
   "source": [
    "2.\tWrite a Python program to do arithmetical operations addition and division.?"
   ]
  },
  {
   "cell_type": "code",
   "execution_count": 16,
   "id": "fa41cd7c",
   "metadata": {},
   "outputs": [
    {
     "name": "stdout",
     "output_type": "stream",
     "text": [
      "enter first number: 10\n",
      "enter second number: 10\n",
      "The sum of 10 and 10: = 20\n",
      "The division of 10 and 10 = 1.0\n"
     ]
    }
   ],
   "source": [
    "#taking input from user\n",
    "num1 = int(input('enter first number: '))\n",
    "num2 = int(input('enter second number: '))\n",
    "\n",
    "#Addition operation\n",
    "\n",
    "sum = num1+num2\n",
    "\n",
    "#division operator\n",
    "\n",
    "div = num1/num2\n",
    "\n",
    "print('The sum of {0} and {1}: = {2}'.format(num1,num2,sum))\n",
    "print('The division of {0} and {1}: = {2}'.format(num1,num2,div))"
   ]
  },
  {
   "cell_type": "code",
   "execution_count": null,
   "id": "91a2149a",
   "metadata": {},
   "outputs": [],
   "source": []
  },
  {
   "cell_type": "markdown",
   "id": "1911abfb",
   "metadata": {},
   "source": [
    "3.\tWrite a Python program to find the area of a triangle?"
   ]
  },
  {
   "cell_type": "code",
   "execution_count": 7,
   "id": "cb537867",
   "metadata": {},
   "outputs": [
    {
     "name": "stdout",
     "output_type": "stream",
     "text": [
      "enter the first side of triangle: 10\n",
      "enter the second side of triangle: 10\n",
      "enter the third side of triangle: 10\n",
      "Area of triangle for given values is: 43.30127018922193\n"
     ]
    }
   ],
   "source": [
    "#using heron's formula   A = sqrt(S(S-a)(S-b)(S-c))\n",
    "\n",
    "#taking required input from users\n",
    "\n",
    "a = int(input('enter the first side of triangle: '))\n",
    "b = int(input('enter the second side of triangle: '))\n",
    "c = int(input('enter the third side of triangle: '))\n",
    "#calculating S value\n",
    "S = (a+b+c)/2\n",
    "\n",
    "area = (S*(S-a)*(S-b)*(S-c))**0.5\n",
    "\n",
    "print('Area of triangle for given values is: ' + str(area))"
   ]
  },
  {
   "cell_type": "code",
   "execution_count": null,
   "id": "ee4f13be",
   "metadata": {},
   "outputs": [],
   "source": []
  },
  {
   "cell_type": "markdown",
   "id": "966b0b31",
   "metadata": {},
   "source": [
    "4.\tWrite a Python program to swap two variables?"
   ]
  },
  {
   "cell_type": "code",
   "execution_count": 8,
   "id": "ff36faa9",
   "metadata": {},
   "outputs": [
    {
     "name": "stdout",
     "output_type": "stream",
     "text": [
      "Value of a after swaping:  kumar\n",
      "value of b after swaping:  ravi\n"
     ]
    }
   ],
   "source": [
    "#assigning a variable\n",
    "\n",
    "\n",
    "a = 'ravi'\n",
    "b = 'kumar'\n",
    "\n",
    "#swaping \n",
    "\n",
    "a,b = b,a\n",
    "\n",
    "print(\"Value of a after swaping: \", a)\n",
    "print('value of b after swaping: ', b)"
   ]
  },
  {
   "cell_type": "code",
   "execution_count": null,
   "id": "712c2506",
   "metadata": {},
   "outputs": [],
   "source": []
  },
  {
   "cell_type": "markdown",
   "id": "2f0b6d79",
   "metadata": {},
   "source": [
    "5.\tWrite a Python program to generate a random number?"
   ]
  },
  {
   "cell_type": "code",
   "execution_count": 14,
   "id": "f7df4686",
   "metadata": {},
   "outputs": [
    {
     "name": "stdout",
     "output_type": "stream",
     "text": [
      "12\n"
     ]
    }
   ],
   "source": [
    "#importing random module\n",
    "\n",
    "import random as rn\n",
    "\n",
    "print(rn.randint(9,20))"
   ]
  },
  {
   "cell_type": "code",
   "execution_count": null,
   "id": "3d5d69fa",
   "metadata": {},
   "outputs": [],
   "source": []
  },
  {
   "cell_type": "code",
   "execution_count": null,
   "id": "77a6798a",
   "metadata": {},
   "outputs": [],
   "source": []
  },
  {
   "cell_type": "code",
   "execution_count": null,
   "id": "375c49be",
   "metadata": {},
   "outputs": [],
   "source": []
  }
 ],
 "metadata": {
  "kernelspec": {
   "display_name": "Python 3",
   "language": "python",
   "name": "python3"
  },
  "language_info": {
   "codemirror_mode": {
    "name": "ipython",
    "version": 3
   },
   "file_extension": ".py",
   "mimetype": "text/x-python",
   "name": "python",
   "nbconvert_exporter": "python",
   "pygments_lexer": "ipython3",
   "version": "3.8.8"
  }
 },
 "nbformat": 4,
 "nbformat_minor": 5
}
